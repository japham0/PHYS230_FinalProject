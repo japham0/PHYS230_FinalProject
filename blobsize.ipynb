{
 "cells": [
  {
   "cell_type": "code",
   "execution_count": 2,
   "metadata": {},
   "outputs": [
    {
     "name": "stdout",
     "output_type": "stream",
     "text": [
      "Requirement already satisfied: opencv-python in /Users/jackpham/anaconda3/lib/python3.11/site-packages (4.9.0.80)\n",
      "Requirement already satisfied: numpy>=1.21.2 in /Users/jackpham/anaconda3/lib/python3.11/site-packages (from opencv-python) (1.24.3)\n",
      "Average area of yellow circles: 195.0658657824604 mm^2\n"
     ]
    }
   ],
   "source": [
    "# Install OpenCV \n",
    "!pip install opencv-python\n",
    "import numpy as np\n",
    "import cv2\n",
    "\n",
    "def find_yellow_circles(image_path):\n",
    "\n",
    "    # Read in image\n",
    "    image = cv2.imread(image_path)\n",
    "    \n",
    "    # Convert the image to HSV color code\n",
    "    # contains an array of HSV values of each pixel\n",
    "    hsv = cv2.cvtColor(image, cv2.COLOR_BGR2HSV)\n",
    "    # print(hsv)\n",
    "\n",
    "    # Range of yellow HSV values\n",
    "    lower_yellow = np.array([20, 100, 100])\n",
    "    upper_yellow = np.array([30, 255, 255])\n",
    "    \n",
    "    # Threshold the HSV image to get only yellow colors\n",
    "    mask = cv2.inRange(hsv, lower_yellow, upper_yellow)\n",
    "    \n",
    "    # Find contours of yellow blobs\n",
    "    contours, _ = cv2.findContours(mask, cv2.RETR_EXTERNAL, cv2.CHAIN_APPROX_SIMPLE)\n",
    "    yellow_blobs = [] # empty list to store contours \n",
    "    \n",
    "    # Loop through the contours and filter out circles\n",
    "    for contour in contours:\n",
    "        # Approximate the contour to a blob with a circle\n",
    "        (x, y), radius = cv2.minEnclosingCircle(contour)\n",
    "        \n",
    "        # Round the radius to an integer\n",
    "        radius = int(radius)\n",
    "        \n",
    "        # Add blob to the list if it's big enough\n",
    "        if radius > 5:\n",
    "            yellow_blobs.append((x, y, radius))\n",
    "    \n",
    "    return yellow_blobs\n",
    "\n",
    "def calculate_average_area(yellow_blobs):\n",
    "    # Calculate the area of each circle and store it in a list\n",
    "    areas = [np.pi * radius**2 for _, _, radius in yellow_blobs]\n",
    "    average_area = sum(areas) / len(areas)\n",
    "    return average_area\n",
    "\n",
    "\n",
    "# TEST SCRIPT\n",
    "image_path = \"/Users/jackpham/Downloads/scrnshot1.jpg\"\n",
    "yellow_blobs = find_yellow_circles(image_path)\n",
    "average_area_pixels = calculate_average_area(yellow_blobs)\n",
    "conversion_factor = 0.26458333333719  # conversion factor is 0.26458333333719 mm per 1 pixel\n",
    "average_area_mm = average_area_pixels * (conversion_factor ** 2)\n",
    "print(\"Average area of yellow circles:\", average_area_mm, \"mm^2\")\n",
    "\n"
   ]
  }
 ],
 "metadata": {
  "kernelspec": {
   "display_name": "base",
   "language": "python",
   "name": "python3"
  },
  "language_info": {
   "codemirror_mode": {
    "name": "ipython",
    "version": 3
   },
   "file_extension": ".py",
   "mimetype": "text/x-python",
   "name": "python",
   "nbconvert_exporter": "python",
   "pygments_lexer": "ipython3",
   "version": "3.11.5"
  },
  "orig_nbformat": 4
 },
 "nbformat": 4,
 "nbformat_minor": 2
}
